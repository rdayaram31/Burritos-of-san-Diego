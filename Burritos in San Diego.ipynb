{
 "cells": [
  {
   "cell_type": "code",
   "execution_count": 3,
   "id": "847443ea",
   "metadata": {},
   "outputs": [],
   "source": [
    "# import library\n",
    "import pandas as pd\n",
    "import numpy as np\n",
    "import seaborn as sns\n",
    "import matplotlib.pyplot as plt\n",
    "\n",
    "%matplotlib inline"
   ]
  },
  {
   "cell_type": "code",
   "execution_count": 4,
   "id": "88c8c72c",
   "metadata": {},
   "outputs": [],
   "source": [
    "b_df = pd.read_csv('burritos_01022018.csv')"
   ]
  },
  {
   "cell_type": "code",
   "execution_count": 5,
   "id": "3abbff1e",
   "metadata": {},
   "outputs": [
    {
     "name": "stdout",
     "output_type": "stream",
     "text": [
      "<class 'pandas.core.frame.DataFrame'>\n",
      "RangeIndex: 385 entries, 0 to 384\n",
      "Data columns (total 66 columns):\n",
      " #   Column          Non-Null Count  Dtype  \n",
      "---  ------          --------------  -----  \n",
      " 0   Location        385 non-null    object \n",
      " 1   Burrito         385 non-null    object \n",
      " 2   Date            385 non-null    object \n",
      " 3   Neighborhood    87 non-null     object \n",
      " 4   Address         83 non-null     object \n",
      " 5   URL             82 non-null     object \n",
      " 6   Yelp            82 non-null     float64\n",
      " 7   Google          82 non-null     float64\n",
      " 8   Chips           24 non-null     object \n",
      " 9   Cost            378 non-null    float64\n",
      " 10  Hunger          382 non-null    float64\n",
      " 11  Mass (g)        22 non-null     float64\n",
      " 12  Density (g/mL)  22 non-null     float64\n",
      " 13  Length          251 non-null    float64\n",
      " 14  Circum          249 non-null    float64\n",
      " 15  Volume          249 non-null    float64\n",
      " 16  Tortilla        385 non-null    float64\n",
      " 17  Temp            365 non-null    float64\n",
      " 18  Meat            373 non-null    float64\n",
      " 19  Fillings        383 non-null    float64\n",
      " 20  Meat:filling    377 non-null    float64\n",
      " 21  Uniformity      383 non-null    float64\n",
      " 22  Salsa           363 non-null    float64\n",
      " 23  Synergy         383 non-null    float64\n",
      " 24  Wrap            383 non-null    float64\n",
      " 25  overall         383 non-null    float64\n",
      " 26  Rec             228 non-null    object \n",
      " 27  Reviewer        384 non-null    object \n",
      " 28  Notes           129 non-null    object \n",
      " 29  Unreliable      30 non-null     object \n",
      " 30  NonSD           7 non-null      object \n",
      " 31  Beef            176 non-null    object \n",
      " 32  Pico            152 non-null    object \n",
      " 33  Guac            147 non-null    object \n",
      " 34  Cheese          155 non-null    object \n",
      " 35  Fries           125 non-null    object \n",
      " 36  Sour cream      89 non-null     object \n",
      " 37  Pork            47 non-null     object \n",
      " 38  Chicken         20 non-null     object \n",
      " 39  Shrimp          21 non-null     object \n",
      " 40  Fish            6 non-null      object \n",
      " 41  Rice            35 non-null     object \n",
      " 42  Beans           32 non-null     object \n",
      " 43  Lettuce         11 non-null     object \n",
      " 44  Tomato          7 non-null      object \n",
      " 45  Bell peper      7 non-null      object \n",
      " 46  Carrots         1 non-null      object \n",
      " 47  Cabbage         8 non-null      object \n",
      " 48  Sauce           38 non-null     object \n",
      " 49  Salsa.1         6 non-null      object \n",
      " 50  Cilantro        15 non-null     object \n",
      " 51  Onion           17 non-null     object \n",
      " 52  Taquito         4 non-null      object \n",
      " 53  Pineapple       7 non-null      object \n",
      " 54  Ham             1 non-null      object \n",
      " 55  Chile relleno   4 non-null      object \n",
      " 56  Nopales         4 non-null      object \n",
      " 57  Lobster         1 non-null      object \n",
      " 58  Queso           0 non-null      float64\n",
      " 59  Egg             4 non-null      object \n",
      " 60  Mushroom        3 non-null      object \n",
      " 61  Bacon           3 non-null      object \n",
      " 62  Sushi           2 non-null      object \n",
      " 63  Avocado         13 non-null     object \n",
      " 64  Corn            3 non-null      object \n",
      " 65  Zucchini        1 non-null      object \n",
      "dtypes: float64(20), object(46)\n",
      "memory usage: 198.6+ KB\n"
     ]
    }
   ],
   "source": [
    "b_df.info()"
   ]
  },
  {
   "cell_type": "code",
   "execution_count": 6,
   "id": "4bbc1f0e",
   "metadata": {},
   "outputs": [
    {
     "data": {
      "text/plain": [
       "Location          0\n",
       "Burrito           0\n",
       "Date              0\n",
       "Neighborhood    298\n",
       "Address         302\n",
       "               ... \n",
       "Bacon           382\n",
       "Sushi           383\n",
       "Avocado         372\n",
       "Corn            382\n",
       "Zucchini        384\n",
       "Length: 66, dtype: int64"
      ]
     },
     "execution_count": 6,
     "metadata": {},
     "output_type": "execute_result"
    }
   ],
   "source": [
    "# checking null value in columns\n",
    "b_df.isnull().sum()"
   ]
  },
  {
   "cell_type": "code",
   "execution_count": 7,
   "id": "ec3f425f",
   "metadata": {},
   "outputs": [
    {
     "data": {
      "text/plain": [
       "Index(['Location', 'Burrito', 'Date', 'Neighborhood', 'Address', 'URL', 'Yelp',\n",
       "       'Google', 'Chips', 'Cost', 'Hunger', 'Mass (g)', 'Density (g/mL)',\n",
       "       'Length', 'Circum', 'Volume', 'Tortilla', 'Temp', 'Meat', 'Fillings',\n",
       "       'Meat:filling', 'Uniformity', 'Salsa', 'Synergy', 'Wrap', 'overall',\n",
       "       'Rec', 'Reviewer', 'Notes', 'Unreliable', 'NonSD', 'Beef', 'Pico',\n",
       "       'Guac', 'Cheese', 'Fries', 'Sour cream', 'Pork', 'Chicken', 'Shrimp',\n",
       "       'Fish', 'Rice', 'Beans', 'Lettuce', 'Tomato', 'Bell peper', 'Carrots',\n",
       "       'Cabbage', 'Sauce', 'Salsa.1', 'Cilantro', 'Onion', 'Taquito',\n",
       "       'Pineapple', 'Ham', 'Chile relleno', 'Nopales', 'Lobster', 'Queso',\n",
       "       'Egg', 'Mushroom', 'Bacon', 'Sushi', 'Avocado', 'Corn', 'Zucchini'],\n",
       "      dtype='object')"
      ]
     },
     "execution_count": 7,
     "metadata": {},
     "output_type": "execute_result"
    }
   ],
   "source": [
    "b_df.columns"
   ]
  },
  {
   "cell_type": "code",
   "execution_count": 8,
   "id": "2ed4f3f0",
   "metadata": {},
   "outputs": [],
   "source": [
    "# importing the RegEx library \n",
    "import re"
   ]
  },
  {
   "cell_type": "code",
   "execution_count": 9,
   "id": "0f13efb5",
   "metadata": {},
   "outputs": [],
   "source": [
    "# Eliminating the () from the column name.\n",
    "b_df.columns= [re.sub(\"([\\(\\[]).*?([\\)\\]])\",\"\",x).strip() for x in b_df.columns]\n",
    "b_df.columns= [x.replace(\":\",\"_\").strip() for x in b_df.columns]"
   ]
  },
  {
   "cell_type": "code",
   "execution_count": 10,
   "id": "e214148e",
   "metadata": {},
   "outputs": [
    {
     "data": {
      "text/plain": [
       "Index(['Location', 'Burrito', 'Date', 'Neighborhood', 'Address', 'URL', 'Yelp',\n",
       "       'Google', 'Chips', 'Cost', 'Hunger', 'Mass', 'Density', 'Length',\n",
       "       'Circum', 'Volume', 'Tortilla', 'Temp', 'Meat', 'Fillings',\n",
       "       'Meat_filling', 'Uniformity', 'Salsa', 'Synergy', 'Wrap', 'overall',\n",
       "       'Rec', 'Reviewer', 'Notes', 'Unreliable', 'NonSD', 'Beef', 'Pico',\n",
       "       'Guac', 'Cheese', 'Fries', 'Sour cream', 'Pork', 'Chicken', 'Shrimp',\n",
       "       'Fish', 'Rice', 'Beans', 'Lettuce', 'Tomato', 'Bell peper', 'Carrots',\n",
       "       'Cabbage', 'Sauce', 'Salsa.1', 'Cilantro', 'Onion', 'Taquito',\n",
       "       'Pineapple', 'Ham', 'Chile relleno', 'Nopales', 'Lobster', 'Queso',\n",
       "       'Egg', 'Mushroom', 'Bacon', 'Sushi', 'Avocado', 'Corn', 'Zucchini'],\n",
       "      dtype='object')"
      ]
     },
     "execution_count": 10,
     "metadata": {},
     "output_type": "execute_result"
    }
   ],
   "source": [
    "b_df.columns"
   ]
  },
  {
   "cell_type": "code",
   "execution_count": 11,
   "id": "884d9ead",
   "metadata": {},
   "outputs": [
    {
     "name": "stdout",
     "output_type": "stream",
     "text": [
      "Welcome to atoti 0.6.2!\n",
      "\n",
      "By using this community edition, you agree with the license available at https://docs.atoti.io/latest/eula.html.\n",
      "Browse the official documentation at https://docs.atoti.io.\n",
      "Join the community at https://www.atoti.io/register.\n",
      "\n",
      "atoti collects telemetry data, which is used to help understand how to improve the product.\n",
      "If you don't wish to send usage data, set the ATOTI_DISABLE_TELEMETRY environment variable to True.\n",
      "\n",
      "You can hide this message by setting the ATOTI_HIDE_EULA_MESSAGE environment variable to True.\n"
     ]
    }
   ],
   "source": [
    "import atoti as tt"
   ]
  },
  {
   "cell_type": "code",
   "execution_count": 21,
   "id": "958925ef",
   "metadata": {},
   "outputs": [
    {
     "name": "stderr",
     "output_type": "stream",
     "text": [
      "Deleting existing \"Unnamed\" session to create the new one.\n"
     ]
    }
   ],
   "source": [
    "session = tt.create_session(config={'user_content_storage' : \"./content\",\"port\":9000})"
   ]
  },
  {
   "cell_type": "code",
   "execution_count": 13,
   "id": "5b26a039",
   "metadata": {},
   "outputs": [],
   "source": [
    "# scale circumference, volume, fillings, length, mass, and cost data\n",
    "from sklearn.preprocessing import MinMaxScaler\n",
    "scaler = MinMaxScaler()"
   ]
  },
  {
   "cell_type": "code",
   "execution_count": 14,
   "id": "1da7b321",
   "metadata": {},
   "outputs": [],
   "source": [
    "burrito_vars_norm = b_df.loc[:,['Circum','Volume','Length','Mass','Cost']]\n",
    "\n",
    "#change 0-1 scaline to 0-10 scale for readability\n",
    "bnorms = scaler.fit_transform(burrito_vars_norm)*10\n",
    "\n",
    "#create new columns for scaled values in our datframe (df)\n",
    "b_df[['Circum_norm','Volume_norm','Length_norm','Mass_norm','Cost_norm']]=bnorms"
   ]
  },
  {
   "cell_type": "code",
   "execution_count": 15,
   "id": "54802d7e",
   "metadata": {},
   "outputs": [
    {
     "data": {
      "text/plain": [
       "Index(['Location', 'Burrito', 'Date', 'Neighborhood', 'Address', 'URL', 'Yelp',\n",
       "       'Google', 'Chips', 'Cost', 'Hunger', 'Mass', 'Density', 'Length',\n",
       "       'Circum', 'Volume', 'Tortilla', 'Temp', 'Meat', 'Fillings',\n",
       "       'Meat_filling', 'Uniformity', 'Salsa', 'Synergy', 'Wrap', 'overall',\n",
       "       'Rec', 'Reviewer', 'Notes', 'Unreliable', 'NonSD', 'Beef', 'Pico',\n",
       "       'Guac', 'Cheese', 'Fries', 'Sour cream', 'Pork', 'Chicken', 'Shrimp',\n",
       "       'Fish', 'Rice', 'Beans', 'Lettuce', 'Tomato', 'Bell peper', 'Carrots',\n",
       "       'Cabbage', 'Sauce', 'Salsa.1', 'Cilantro', 'Onion', 'Taquito',\n",
       "       'Pineapple', 'Ham', 'Chile relleno', 'Nopales', 'Lobster', 'Queso',\n",
       "       'Egg', 'Mushroom', 'Bacon', 'Sushi', 'Avocado', 'Corn', 'Zucchini',\n",
       "       'Circum_norm', 'Volume_norm', 'Length_norm', 'Mass_norm', 'Cost_norm'],\n",
       "      dtype='object')"
      ]
     },
     "execution_count": 15,
     "metadata": {},
     "output_type": "execute_result"
    }
   ],
   "source": [
    "b_df.columns"
   ]
  },
  {
   "cell_type": "code",
   "execution_count": 16,
   "id": "2f20273c",
   "metadata": {},
   "outputs": [
    {
     "data": {
      "text/html": [
       "<div>\n",
       "<style scoped>\n",
       "    .dataframe tbody tr th:only-of-type {\n",
       "        vertical-align: middle;\n",
       "    }\n",
       "\n",
       "    .dataframe tbody tr th {\n",
       "        vertical-align: top;\n",
       "    }\n",
       "\n",
       "    .dataframe thead th {\n",
       "        text-align: right;\n",
       "    }\n",
       "</style>\n",
       "<table border=\"1\" class=\"dataframe\">\n",
       "  <thead>\n",
       "    <tr style=\"text-align: right;\">\n",
       "      <th></th>\n",
       "      <th>Location</th>\n",
       "      <th>Burrito</th>\n",
       "      <th>variable</th>\n",
       "      <th>value</th>\n",
       "    </tr>\n",
       "  </thead>\n",
       "  <tbody>\n",
       "    <tr>\n",
       "      <th>0</th>\n",
       "      <td>Donato's taco shop</td>\n",
       "      <td>California</td>\n",
       "      <td>Circum_norm</td>\n",
       "      <td>NaN</td>\n",
       "    </tr>\n",
       "    <tr>\n",
       "      <th>1</th>\n",
       "      <td>Oscar's Mexican food</td>\n",
       "      <td>California</td>\n",
       "      <td>Circum_norm</td>\n",
       "      <td>NaN</td>\n",
       "    </tr>\n",
       "    <tr>\n",
       "      <th>2</th>\n",
       "      <td>Oscar's Mexican food</td>\n",
       "      <td>Carnitas</td>\n",
       "      <td>Circum_norm</td>\n",
       "      <td>NaN</td>\n",
       "    </tr>\n",
       "    <tr>\n",
       "      <th>3</th>\n",
       "      <td>Oscar's Mexican food</td>\n",
       "      <td>Carne asada</td>\n",
       "      <td>Circum_norm</td>\n",
       "      <td>NaN</td>\n",
       "    </tr>\n",
       "    <tr>\n",
       "      <th>4</th>\n",
       "      <td>Pollos Maria</td>\n",
       "      <td>California</td>\n",
       "      <td>Circum_norm</td>\n",
       "      <td>NaN</td>\n",
       "    </tr>\n",
       "    <tr>\n",
       "      <th>...</th>\n",
       "      <td>...</td>\n",
       "      <td>...</td>\n",
       "      <td>...</td>\n",
       "      <td>...</td>\n",
       "    </tr>\n",
       "    <tr>\n",
       "      <th>1920</th>\n",
       "      <td>Rigoberto's Taco Shop</td>\n",
       "      <td>California</td>\n",
       "      <td>Cost_norm</td>\n",
       "      <td>1.753748</td>\n",
       "    </tr>\n",
       "    <tr>\n",
       "      <th>1921</th>\n",
       "      <td>Rigoberto's Taco Shop</td>\n",
       "      <td>California</td>\n",
       "      <td>Cost_norm</td>\n",
       "      <td>1.753748</td>\n",
       "    </tr>\n",
       "    <tr>\n",
       "      <th>1922</th>\n",
       "      <td>Burrito Box</td>\n",
       "      <td>Steak with guacamole</td>\n",
       "      <td>Cost_norm</td>\n",
       "      <td>3.866424</td>\n",
       "    </tr>\n",
       "    <tr>\n",
       "      <th>1923</th>\n",
       "      <td>Taco Stand</td>\n",
       "      <td>California</td>\n",
       "      <td>Cost_norm</td>\n",
       "      <td>2.226261</td>\n",
       "    </tr>\n",
       "    <tr>\n",
       "      <th>1924</th>\n",
       "      <td>Taco Stand</td>\n",
       "      <td>California</td>\n",
       "      <td>Cost_norm</td>\n",
       "      <td>2.226261</td>\n",
       "    </tr>\n",
       "  </tbody>\n",
       "</table>\n",
       "<p>1925 rows × 4 columns</p>\n",
       "</div>"
      ],
      "text/plain": [
       "                   Location               Burrito     variable     value\n",
       "0        Donato's taco shop           California   Circum_norm       NaN\n",
       "1      Oscar's Mexican food           California   Circum_norm       NaN\n",
       "2      Oscar's Mexican food              Carnitas  Circum_norm       NaN\n",
       "3      Oscar's Mexican food           Carne asada  Circum_norm       NaN\n",
       "4              Pollos Maria            California  Circum_norm       NaN\n",
       "...                     ...                   ...          ...       ...\n",
       "1920  Rigoberto's Taco Shop           California     Cost_norm  1.753748\n",
       "1921  Rigoberto's Taco Shop           California     Cost_norm  1.753748\n",
       "1922            Burrito Box  Steak with guacamole    Cost_norm  3.866424\n",
       "1923             Taco Stand           California     Cost_norm  2.226261\n",
       "1924             Taco Stand           California     Cost_norm  2.226261\n",
       "\n",
       "[1925 rows x 4 columns]"
      ]
     },
     "execution_count": 16,
     "metadata": {},
     "output_type": "execute_result"
    }
   ],
   "source": [
    "#create new dataframe for variables so they can be used in a visualization platform\n",
    "#melt reshapes the data so that we have 1 column with circum, volume, length, mass, and cost as features & 1 with values.\n",
    "#we increaste the number of rows by 5x and decrease the number of columns by 4.\n",
    "burrito_variables = pd.melt(b_df.reset_index(),id_vars=['Location','Burrito'], value_vars= ['Circum_norm', 'Volume_norm', 'Length_norm', 'Mass_norm', 'Cost_norm'])\n",
    "burrito_variables"
   ]
  },
  {
   "cell_type": "code",
   "execution_count": 17,
   "id": "c2e66ea6",
   "metadata": {},
   "outputs": [],
   "source": [
    "from flask import Flask, session"
   ]
  },
  {
   "cell_type": "code",
   "execution_count": 23,
   "id": "a1248c2c",
   "metadata": {},
   "outputs": [
    {
     "data": {
      "text/html": [
       "<div>\n",
       "<style scoped>\n",
       "    .dataframe tbody tr th:only-of-type {\n",
       "        vertical-align: middle;\n",
       "    }\n",
       "\n",
       "    .dataframe tbody tr th {\n",
       "        vertical-align: top;\n",
       "    }\n",
       "\n",
       "    .dataframe thead th {\n",
       "        text-align: right;\n",
       "    }\n",
       "</style>\n",
       "<table border=\"1\" class=\"dataframe\">\n",
       "  <thead>\n",
       "    <tr style=\"text-align: right;\">\n",
       "      <th></th>\n",
       "      <th>Location</th>\n",
       "      <th>Burrito</th>\n",
       "      <th>Date</th>\n",
       "      <th>Neighborhood</th>\n",
       "      <th>Address</th>\n",
       "      <th>URL</th>\n",
       "      <th>Yelp</th>\n",
       "      <th>Google</th>\n",
       "      <th>Chips</th>\n",
       "      <th>Cost</th>\n",
       "      <th>...</th>\n",
       "      <th>Bacon</th>\n",
       "      <th>Sushi</th>\n",
       "      <th>Avocado</th>\n",
       "      <th>Corn</th>\n",
       "      <th>Zucchini</th>\n",
       "      <th>Circum_norm</th>\n",
       "      <th>Volume_norm</th>\n",
       "      <th>Length_norm</th>\n",
       "      <th>Mass_norm</th>\n",
       "      <th>Cost_norm</th>\n",
       "    </tr>\n",
       "  </thead>\n",
       "  <tbody>\n",
       "    <tr>\n",
       "      <th>0</th>\n",
       "      <td>Donato's taco shop</td>\n",
       "      <td>California</td>\n",
       "      <td>1/18/2016</td>\n",
       "      <td>Miramar</td>\n",
       "      <td>6780 Miramar Rd</td>\n",
       "      <td>http://donatostacoshop.net/</td>\n",
       "      <td>3.5</td>\n",
       "      <td>4.2</td>\n",
       "      <td>N/A</td>\n",
       "      <td>6.49</td>\n",
       "      <td>...</td>\n",
       "      <td>N/A</td>\n",
       "      <td>N/A</td>\n",
       "      <td>N/A</td>\n",
       "      <td>N/A</td>\n",
       "      <td>N/A</td>\n",
       "      <td>NaN</td>\n",
       "      <td>NaN</td>\n",
       "      <td>NaN</td>\n",
       "      <td>NaN</td>\n",
       "      <td>1.590186</td>\n",
       "    </tr>\n",
       "    <tr>\n",
       "      <th>1</th>\n",
       "      <td>Oscar's Mexican food</td>\n",
       "      <td>California</td>\n",
       "      <td>1/24/2016</td>\n",
       "      <td>San Marcos</td>\n",
       "      <td>225 S Rancho Santa Fe Rd</td>\n",
       "      <td>http://www.yelp.com/biz/oscars-mexican-food-sa...</td>\n",
       "      <td>3.5</td>\n",
       "      <td>3.3</td>\n",
       "      <td>N/A</td>\n",
       "      <td>5.45</td>\n",
       "      <td>...</td>\n",
       "      <td>N/A</td>\n",
       "      <td>N/A</td>\n",
       "      <td>N/A</td>\n",
       "      <td>N/A</td>\n",
       "      <td>N/A</td>\n",
       "      <td>NaN</td>\n",
       "      <td>NaN</td>\n",
       "      <td>NaN</td>\n",
       "      <td>NaN</td>\n",
       "      <td>1.117674</td>\n",
       "    </tr>\n",
       "    <tr>\n",
       "      <th>2</th>\n",
       "      <td>Oscar's Mexican food</td>\n",
       "      <td>Carnitas</td>\n",
       "      <td>1/24/2016</td>\n",
       "      <td>N/A</td>\n",
       "      <td>N/A</td>\n",
       "      <td>N/A</td>\n",
       "      <td>NaN</td>\n",
       "      <td>NaN</td>\n",
       "      <td>N/A</td>\n",
       "      <td>4.85</td>\n",
       "      <td>...</td>\n",
       "      <td>N/A</td>\n",
       "      <td>N/A</td>\n",
       "      <td>N/A</td>\n",
       "      <td>N/A</td>\n",
       "      <td>N/A</td>\n",
       "      <td>NaN</td>\n",
       "      <td>NaN</td>\n",
       "      <td>NaN</td>\n",
       "      <td>NaN</td>\n",
       "      <td>0.845070</td>\n",
       "    </tr>\n",
       "    <tr>\n",
       "      <th>3</th>\n",
       "      <td>Oscar's Mexican food</td>\n",
       "      <td>Carne asada</td>\n",
       "      <td>1/24/2016</td>\n",
       "      <td>N/A</td>\n",
       "      <td>N/A</td>\n",
       "      <td>N/A</td>\n",
       "      <td>NaN</td>\n",
       "      <td>NaN</td>\n",
       "      <td>N/A</td>\n",
       "      <td>5.25</td>\n",
       "      <td>...</td>\n",
       "      <td>N/A</td>\n",
       "      <td>N/A</td>\n",
       "      <td>N/A</td>\n",
       "      <td>N/A</td>\n",
       "      <td>N/A</td>\n",
       "      <td>NaN</td>\n",
       "      <td>NaN</td>\n",
       "      <td>NaN</td>\n",
       "      <td>NaN</td>\n",
       "      <td>1.026806</td>\n",
       "    </tr>\n",
       "    <tr>\n",
       "      <th>4</th>\n",
       "      <td>Pollos Maria</td>\n",
       "      <td>California</td>\n",
       "      <td>1/27/2016</td>\n",
       "      <td>Carlsbad</td>\n",
       "      <td>3055 Harding St</td>\n",
       "      <td>http://pollosmaria.com/</td>\n",
       "      <td>4.0</td>\n",
       "      <td>3.8</td>\n",
       "      <td>x</td>\n",
       "      <td>6.59</td>\n",
       "      <td>...</td>\n",
       "      <td>N/A</td>\n",
       "      <td>N/A</td>\n",
       "      <td>N/A</td>\n",
       "      <td>N/A</td>\n",
       "      <td>N/A</td>\n",
       "      <td>NaN</td>\n",
       "      <td>NaN</td>\n",
       "      <td>NaN</td>\n",
       "      <td>NaN</td>\n",
       "      <td>1.635620</td>\n",
       "    </tr>\n",
       "  </tbody>\n",
       "</table>\n",
       "<p>5 rows × 71 columns</p>\n",
       "</div>"
      ],
      "text/plain": [
       "               Location      Burrito       Date Neighborhood  \\\n",
       "0    Donato's taco shop  California   1/18/2016      Miramar   \n",
       "1  Oscar's Mexican food  California   1/24/2016   San Marcos   \n",
       "2  Oscar's Mexican food     Carnitas  1/24/2016          N/A   \n",
       "3  Oscar's Mexican food  Carne asada  1/24/2016          N/A   \n",
       "4          Pollos Maria   California  1/27/2016     Carlsbad   \n",
       "\n",
       "                    Address  \\\n",
       "0           6780 Miramar Rd   \n",
       "1  225 S Rancho Santa Fe Rd   \n",
       "2                       N/A   \n",
       "3                       N/A   \n",
       "4           3055 Harding St   \n",
       "\n",
       "                                                 URL  Yelp  Google Chips  \\\n",
       "0                        http://donatostacoshop.net/   3.5     4.2   N/A   \n",
       "1  http://www.yelp.com/biz/oscars-mexican-food-sa...   3.5     3.3   N/A   \n",
       "2                                                N/A   NaN     NaN   N/A   \n",
       "3                                                N/A   NaN     NaN   N/A   \n",
       "4                            http://pollosmaria.com/   4.0     3.8     x   \n",
       "\n",
       "   Cost  ...  Bacon  Sushi  Avocado  Corn  Zucchini  Circum_norm  Volume_norm  \\\n",
       "0  6.49  ...    N/A    N/A      N/A   N/A       N/A          NaN          NaN   \n",
       "1  5.45  ...    N/A    N/A      N/A   N/A       N/A          NaN          NaN   \n",
       "2  4.85  ...    N/A    N/A      N/A   N/A       N/A          NaN          NaN   \n",
       "3  5.25  ...    N/A    N/A      N/A   N/A       N/A          NaN          NaN   \n",
       "4  6.59  ...    N/A    N/A      N/A   N/A       N/A          NaN          NaN   \n",
       "\n",
       "   Length_norm  Mass_norm  Cost_norm  \n",
       "0          NaN        NaN   1.590186  \n",
       "1          NaN        NaN   1.117674  \n",
       "2          NaN        NaN   0.845070  \n",
       "3          NaN        NaN   1.026806  \n",
       "4          NaN        NaN   1.635620  \n",
       "\n",
       "[5 rows x 71 columns]"
      ]
     },
     "execution_count": 23,
     "metadata": {},
     "output_type": "execute_result"
    }
   ],
   "source": [
    "burrit_table = session.read_pandas(b_df,table_name = 'burritos')\n",
    "burrit_table.head()"
   ]
  },
  {
   "cell_type": "code",
   "execution_count": 24,
   "id": "51a47540",
   "metadata": {},
   "outputs": [],
   "source": [
    "cube  = session.create_cube(burrit_table)"
   ]
  },
  {
   "cell_type": "code",
   "execution_count": 26,
   "id": "abf2721b",
   "metadata": {},
   "outputs": [],
   "source": [
    "# Aliasing the hierarchies property to a shorter variable name.\n",
    "h = cube.hierarchies\n",
    "l = cube.levels\n",
    "m = cube.measures"
   ]
  },
  {
   "cell_type": "code",
   "execution_count": 27,
   "id": "b3f57d65",
   "metadata": {},
   "outputs": [],
   "source": [
    "m['five'] = 5"
   ]
  },
  {
   "cell_type": "code",
   "execution_count": 29,
   "id": "9ac72a44",
   "metadata": {},
   "outputs": [
    {
     "data": {
      "application/vnd.atoti.widget.v0+json": {
       "name": "Exploration_1",
       "sessionId": "cf8e7a79-f001-4be6-a563-8e0b140f7c82",
       "sessionLocation": {
        "https": false,
        "port": 9000
       },
       "widgetCreationCode": "session.visualize()"
      },
      "text/plain": [
       "Open the notebook in JupyterLab with the atoti extension enabled to build this widget."
      ]
     },
     "metadata": {},
     "output_type": "display_data"
    }
   ],
   "source": [
    "session.visualize('Exploration_1')"
   ]
  },
  {
   "cell_type": "code",
   "execution_count": null,
   "id": "74b3202e",
   "metadata": {},
   "outputs": [],
   "source": []
  }
 ],
 "metadata": {
  "kernelspec": {
   "display_name": "Python 3",
   "language": "python",
   "name": "python3"
  },
  "language_info": {
   "codemirror_mode": {
    "name": "ipython",
    "version": 3
   },
   "file_extension": ".py",
   "mimetype": "text/x-python",
   "name": "python",
   "nbconvert_exporter": "python",
   "pygments_lexer": "ipython3",
   "version": "3.8.8"
  }
 },
 "nbformat": 4,
 "nbformat_minor": 5
}
